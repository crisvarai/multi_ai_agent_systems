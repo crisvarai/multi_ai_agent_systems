{
 "cells": [
  {
   "cell_type": "markdown",
   "metadata": {},
   "source": [
    "You can download the `requirements.txt` for this course from the workspace of this lab. `File --> Open...`"
   ]
  },
  {
   "cell_type": "markdown",
   "metadata": {},
   "source": [
    "# L2: Create Agents to Research and Write an Article\n",
    "\n",
    "In this lesson, you will be introduced to the foundational concepts of multi-agent systems and get an overview of the crewAI framework."
   ]
  },
  {
   "cell_type": "markdown",
   "metadata": {},
   "source": [
    "The libraries are already installed in the classroom. If you're running this notebook on your own machine, you can install the following:\n",
    "```Python\n",
    "!pip install crewai==0.28.8 crewai_tools==0.1.6 langchain_community==0.0.29\n",
    "```"
   ]
  },
  {
   "cell_type": "code",
   "execution_count": 1,
   "metadata": {
    "height": 64
   },
   "outputs": [],
   "source": [
    "# Warning control\n",
    "import warnings\n",
    "warnings.filterwarnings('ignore')"
   ]
  },
  {
   "cell_type": "markdown",
   "metadata": {},
   "source": [
    "- Import from the crewAI libray."
   ]
  },
  {
   "cell_type": "code",
   "execution_count": 2,
   "metadata": {
    "height": 30
   },
   "outputs": [],
   "source": [
    "from crewai import Agent, Task, Crew"
   ]
  },
  {
   "cell_type": "markdown",
   "metadata": {},
   "source": [
    "- As a LLM for your agents, you'll be using OpenAI's `gpt-3.5-turbo`.\n",
    "\n",
    "**Optional Note:** crewAI also allow other popular models to be used as a LLM for your Agents. You can see some of the examples at the [bottom of the notebook](#1)."
   ]
  },
  {
   "cell_type": "code",
   "execution_count": 3,
   "metadata": {
    "height": 98
   },
   "outputs": [],
   "source": [
    "import os\n",
    "from utils import get_openai_api_key\n",
    "\n",
    "openai_api_key = get_openai_api_key()\n",
    "os.environ[\"OPENAI_MODEL_NAME\"] = 'gpt-3.5-turbo'"
   ]
  },
  {
   "cell_type": "markdown",
   "metadata": {},
   "source": [
    "## Creating Agents\n",
    "\n",
    "- Define your Agents, and provide them a `role`, `goal` and `backstory`.\n",
    "- It has been seen that LLMs perform better when they are role playing."
   ]
  },
  {
   "cell_type": "markdown",
   "metadata": {},
   "source": [
    "### Agent: Planner\n",
    "\n",
    "**Note**: The benefit of using _multiple strings_ :\n",
    "```Python\n",
    "varname = \"line 1 of text\"\n",
    "          \"line 2 of text\"\n",
    "```\n",
    "\n",
    "versus the _triple quote docstring_:\n",
    "```Python\n",
    "varname = \"\"\"line 1 of text\n",
    "             line 2 of text\n",
    "          \"\"\"\n",
    "```\n",
    "is that it can avoid adding those whitespaces and newline characters, making it better formatted to be passed to the LLM."
   ]
  },
  {
   "cell_type": "code",
   "execution_count": 4,
   "metadata": {
    "height": 249
   },
   "outputs": [],
   "source": [
    "planner = Agent(\n",
    "    role=\"Content Planner\",\n",
    "    goal=\"Plan engaging and factually accurate content on {topic}\",\n",
    "    backstory=\"You're working on planning a blog article \"\n",
    "              \"about the topic: {topic}.\"\n",
    "              \"You collect information that helps the \"\n",
    "              \"audience learn something \"\n",
    "              \"and make informed decisions. \"\n",
    "              \"Your work is the basis for \"\n",
    "              \"the Content Writer to write an article on this topic.\",\n",
    "    allow_delegation=False,\n",
    "\tverbose=True\n",
    ")"
   ]
  },
  {
   "cell_type": "markdown",
   "metadata": {},
   "source": [
    "### Agent: Writer"
   ]
  },
  {
   "cell_type": "code",
   "execution_count": 5,
   "metadata": {
    "height": 385
   },
   "outputs": [],
   "source": [
    "writer = Agent(\n",
    "    role=\"Content Writer\",\n",
    "    goal=\"Write insightful and factually accurate \"\n",
    "         \"opinion piece about the topic: {topic}\",\n",
    "    backstory=\"You're working on a writing \"\n",
    "              \"a new opinion piece about the topic: {topic}. \"\n",
    "              \"You base your writing on the work of \"\n",
    "              \"the Content Planner, who provides an outline \"\n",
    "              \"and relevant context about the topic. \"\n",
    "              \"You follow the main objectives and \"\n",
    "              \"direction of the outline, \"\n",
    "              \"as provide by the Content Planner. \"\n",
    "              \"You also provide objective and impartial insights \"\n",
    "              \"and back them up with information \"\n",
    "              \"provide by the Content Planner. \"\n",
    "              \"You acknowledge in your opinion piece \"\n",
    "              \"when your statements are opinions \"\n",
    "              \"as opposed to objective statements.\",\n",
    "    allow_delegation=False,\n",
    "    verbose=True\n",
    ")"
   ]
  },
  {
   "cell_type": "markdown",
   "metadata": {},
   "source": [
    "### Agent: Editor"
   ]
  },
  {
   "cell_type": "code",
   "execution_count": 6,
   "metadata": {
    "height": 283
   },
   "outputs": [],
   "source": [
    "editor = Agent(\n",
    "    role=\"Editor\",\n",
    "    goal=\"Edit a given blog post to align with \"\n",
    "         \"the writing style of the organization. \",\n",
    "    backstory=\"You are an editor who receives a blog post \"\n",
    "              \"from the Content Writer. \"\n",
    "              \"Your goal is to review the blog post \"\n",
    "              \"to ensure that it follows journalistic best practices,\"\n",
    "              \"provides balanced viewpoints \"\n",
    "              \"when providing opinions or assertions, \"\n",
    "              \"and also avoids major controversial topics \"\n",
    "              \"or opinions when possible.\",\n",
    "    allow_delegation=False,\n",
    "    verbose=True\n",
    ")"
   ]
  },
  {
   "cell_type": "markdown",
   "metadata": {},
   "source": [
    "## Creating Tasks\n",
    "\n",
    "- Define your Tasks, and provide them a `description`, `expected_output` and `agent`."
   ]
  },
  {
   "cell_type": "markdown",
   "metadata": {},
   "source": [
    "### Task: Plan"
   ]
  },
  {
   "cell_type": "code",
   "execution_count": 7,
   "metadata": {
    "height": 283
   },
   "outputs": [],
   "source": [
    "plan = Task(\n",
    "    description=(\n",
    "        \"1. Prioritize the latest trends, key players, \"\n",
    "            \"and noteworthy news on {topic}.\\n\"\n",
    "        \"2. Identify the target audience, considering \"\n",
    "            \"their interests and pain points.\\n\"\n",
    "        \"3. Develop a detailed content outline including \"\n",
    "            \"an introduction, key points, and a call to action.\\n\"\n",
    "        \"4. Include SEO keywords and relevant data or sources.\"\n",
    "    ),\n",
    "    expected_output=\"A comprehensive content plan document \"\n",
    "        \"with an outline, audience analysis, \"\n",
    "        \"SEO keywords, and resources.\",\n",
    "    agent=planner,\n",
    ")"
   ]
  },
  {
   "cell_type": "markdown",
   "metadata": {},
   "source": [
    "### Task: Write"
   ]
  },
  {
   "cell_type": "code",
   "execution_count": 8,
   "metadata": {
    "height": 319
   },
   "outputs": [],
   "source": [
    "write = Task(\n",
    "    description=(\n",
    "        \"1. Use the content plan to craft a compelling \"\n",
    "            \"blog post on {topic}.\\n\"\n",
    "        \"2. Incorporate SEO keywords naturally.\\n\"\n",
    "\t\t\"3. Sections/Subtitles are properly named \"\n",
    "            \"in an engaging manner.\\n\"\n",
    "        \"4. Ensure the post is structured with an \"\n",
    "            \"engaging introduction, insightful body, \"\n",
    "            \"and a summarizing conclusion.\\n\"\n",
    "        \"5. Proofread for grammatical errors and \"\n",
    "            \"alignment with the brand's voice.\\n\"\n",
    "    ),\n",
    "    expected_output=\"A well-written blog post \"\n",
    "        \"in markdown format, ready for publication, \"\n",
    "        \"each section should have 2 or 3 paragraphs.\",\n",
    "    agent=writer,\n",
    ")"
   ]
  },
  {
   "cell_type": "markdown",
   "metadata": {},
   "source": [
    "### Task: Edit"
   ]
  },
  {
   "cell_type": "code",
   "execution_count": 9,
   "metadata": {
    "height": 181
   },
   "outputs": [],
   "source": [
    "edit = Task(\n",
    "    description=(\"Proofread the given blog post for \"\n",
    "                 \"grammatical errors and \"\n",
    "                 \"alignment with the brand's voice.\"),\n",
    "    expected_output=\"A well-written blog post in markdown format, \"\n",
    "                    \"ready for publication, \"\n",
    "                    \"each section should have 2 or 3 paragraphs.\",\n",
    "    agent=editor\n",
    ")"
   ]
  },
  {
   "cell_type": "markdown",
   "metadata": {},
   "source": [
    "## Creating the Crew\n",
    "\n",
    "- Create your crew of Agents\n",
    "- Pass the tasks to be performed by those agents.\n",
    "    - **Note**: *For this simple example*, the tasks will be performed sequentially (i.e they are dependent on each other), so the _order_ of the task in the list _matters_.\n",
    "- `verbose=2` allows you to see all the logs of the execution. "
   ]
  },
  {
   "cell_type": "code",
   "execution_count": 10,
   "metadata": {
    "height": 98
   },
   "outputs": [],
   "source": [
    "crew = Crew(\n",
    "    agents=[planner, writer, editor],\n",
    "    tasks=[plan, write, edit],\n",
    "    verbose=2\n",
    ")"
   ]
  },
  {
   "cell_type": "markdown",
   "metadata": {},
   "source": [
    "## Running the Crew"
   ]
  },
  {
   "cell_type": "markdown",
   "metadata": {},
   "source": [
    "**Note**: LLMs can provide different outputs for they same input, so what you get might be different than what you see in the video."
   ]
  },
  {
   "cell_type": "code",
   "execution_count": 11,
   "metadata": {
    "height": 45
   },
   "outputs": [
    {
     "name": "stdout",
     "output_type": "stream",
     "text": [
      "\u001b[1m\u001b[95m [DEBUG]: == Working Agent: Content Planner\u001b[00m\n",
      "\u001b[1m\u001b[95m [INFO]: == Starting Task: 1. Prioritize the latest trends, key players, and noteworthy news on Artificial Intelligence.\n",
      "2. Identify the target audience, considering their interests and pain points.\n",
      "3. Develop a detailed content outline including an introduction, key points, and a call to action.\n",
      "4. Include SEO keywords and relevant data or sources.\u001b[00m\n",
      "\n",
      "\n",
      "\u001b[1m> Entering new CrewAgentExecutor chain...\u001b[0m\n",
      "\u001b[32;1m\u001b[1;3mI now can give a great answer\n",
      "\n",
      "Final Answer: \n",
      "\n",
      "Content Plan Document:\n",
      "\n",
      "Title: The Future of Artificial Intelligence: Trends, Players, and News\n",
      "\n",
      "Introduction:\n",
      "- Brief overview of the current state of Artificial Intelligence (AI)\n",
      "- Introduction to the latest trends and key players in the AI industry\n",
      "- Preview of what readers can expect to learn from the article\n",
      "\n",
      "Key Points:\n",
      "1. Latest Trends in Artificial Intelligence:\n",
      "   - Machine learning advancements\n",
      "   - Natural language processing developments\n",
      "   - AI in healthcare and finance industries\n",
      "   - Ethical considerations in AI technology\n",
      "\n",
      "2. Key Players in the AI Industry:\n",
      "   - Google DeepMind\n",
      "   - IBM Watson\n",
      "   - Amazon Web Services\n",
      "   - Microsoft Azure\n",
      "   - OpenAI\n",
      "\n",
      "3. Noteworthy News in Artificial Intelligence:\n",
      "   - Recent breakthroughs in AI research\n",
      "   - AI applications in various sectors\n",
      "   - Impact of AI on job market and society\n",
      "   - Regulatory updates in the AI industry\n",
      "\n",
      "Audience Analysis:\n",
      "- Target Audience: Tech enthusiasts, professionals in the AI industry, business leaders interested in AI technology\n",
      "- Interests: Latest advancements in AI, key players shaping the industry, implications of AI on society and economy\n",
      "- Pain Points: Keeping up with rapidly evolving AI trends, understanding the competitive landscape in the AI industry, navigating ethical challenges in AI development\n",
      "\n",
      "SEO Keywords:\n",
      "- Artificial Intelligence trends\n",
      "- Key players in AI industry\n",
      "- Latest news on Artificial Intelligence\n",
      "- AI developments 2021\n",
      "- Ethical AI considerations\n",
      "\n",
      "Resources:\n",
      "1. Forbes - https://www.forbes.com/artificial-intelligence\n",
      "2. MIT Technology Review - https://www.technologyreview.com/artificial-intelligence\n",
      "3. World Economic Forum - https://www.weforum.org/artificial-intelligence\n",
      "\n",
      "Call to Action:\n",
      "Encourage readers to stay informed about the latest trends in Artificial Intelligence by subscribing to our newsletter for regular updates and insights on AI technology. \n",
      "\n",
      "End of Content Plan Document.\u001b[0m\n",
      "\n",
      "\u001b[1m> Finished chain.\u001b[0m\n",
      "\u001b[1m\u001b[92m [DEBUG]: == [Content Planner] Task output: Content Plan Document:\n",
      "\n",
      "Title: The Future of Artificial Intelligence: Trends, Players, and News\n",
      "\n",
      "Introduction:\n",
      "- Brief overview of the current state of Artificial Intelligence (AI)\n",
      "- Introduction to the latest trends and key players in the AI industry\n",
      "- Preview of what readers can expect to learn from the article\n",
      "\n",
      "Key Points:\n",
      "1. Latest Trends in Artificial Intelligence:\n",
      "   - Machine learning advancements\n",
      "   - Natural language processing developments\n",
      "   - AI in healthcare and finance industries\n",
      "   - Ethical considerations in AI technology\n",
      "\n",
      "2. Key Players in the AI Industry:\n",
      "   - Google DeepMind\n",
      "   - IBM Watson\n",
      "   - Amazon Web Services\n",
      "   - Microsoft Azure\n",
      "   - OpenAI\n",
      "\n",
      "3. Noteworthy News in Artificial Intelligence:\n",
      "   - Recent breakthroughs in AI research\n",
      "   - AI applications in various sectors\n",
      "   - Impact of AI on job market and society\n",
      "   - Regulatory updates in the AI industry\n",
      "\n",
      "Audience Analysis:\n",
      "- Target Audience: Tech enthusiasts, professionals in the AI industry, business leaders interested in AI technology\n",
      "- Interests: Latest advancements in AI, key players shaping the industry, implications of AI on society and economy\n",
      "- Pain Points: Keeping up with rapidly evolving AI trends, understanding the competitive landscape in the AI industry, navigating ethical challenges in AI development\n",
      "\n",
      "SEO Keywords:\n",
      "- Artificial Intelligence trends\n",
      "- Key players in AI industry\n",
      "- Latest news on Artificial Intelligence\n",
      "- AI developments 2021\n",
      "- Ethical AI considerations\n",
      "\n",
      "Resources:\n",
      "1. Forbes - https://www.forbes.com/artificial-intelligence\n",
      "2. MIT Technology Review - https://www.technologyreview.com/artificial-intelligence\n",
      "3. World Economic Forum - https://www.weforum.org/artificial-intelligence\n",
      "\n",
      "Call to Action:\n",
      "Encourage readers to stay informed about the latest trends in Artificial Intelligence by subscribing to our newsletter for regular updates and insights on AI technology. \n",
      "\n",
      "End of Content Plan Document.\n",
      "\n",
      "\u001b[00m\n",
      "\u001b[1m\u001b[95m [DEBUG]: == Working Agent: Content Writer\u001b[00m\n",
      "\u001b[1m\u001b[95m [INFO]: == Starting Task: 1. Use the content plan to craft a compelling blog post on Artificial Intelligence.\n",
      "2. Incorporate SEO keywords naturally.\n",
      "3. Sections/Subtitles are properly named in an engaging manner.\n",
      "4. Ensure the post is structured with an engaging introduction, insightful body, and a summarizing conclusion.\n",
      "5. Proofread for grammatical errors and alignment with the brand's voice.\n",
      "\u001b[00m\n",
      "\n",
      "\n",
      "\u001b[1m> Entering new CrewAgentExecutor chain...\u001b[0m\n",
      "\u001b[32;1m\u001b[1;3mI now can give a great answer\n",
      "\n",
      "Final Answer: \n",
      "\n",
      "# The Future of Artificial Intelligence: Trends, Players, and News\n",
      "\n",
      "## Introduction\n",
      "Artificial Intelligence (AI) has rapidly evolved in recent years, shaping industries and transforming the way we live and work. From machine learning advancements to ethical considerations in technology development, the AI landscape is constantly changing. In this article, we will explore the latest trends, key players, and noteworthy news in the AI industry, providing insights for tech enthusiasts, professionals, and business leaders interested in AI technology.\n",
      "\n",
      "## Latest Trends in Artificial Intelligence\n",
      "One of the most significant trends in AI is the continuous advancements in machine learning. Algorithms are becoming more sophisticated, allowing AI systems to learn and improve from data without explicit programming. Natural language processing (NLP) is also a key focus, with AI systems now able to understand and generate human language with increasing accuracy. In addition, AI applications in healthcare and finance are revolutionizing these industries, from personalized medicine to algorithmic trading. However, as AI technologies become more powerful, ethical considerations surrounding privacy, bias, and accountability become increasingly important.\n",
      "\n",
      "## Key Players in the AI Industry\n",
      "Several companies are at the forefront of AI innovation, shaping the industry with their cutting-edge technologies. Google DeepMind, known for its breakthroughs in AI research, is pushing the boundaries of machine learning and AI applications. IBM Watson is another key player, offering AI-powered solutions for businesses across various sectors. Amazon Web Services and Microsoft Azure provide cloud-based AI services, enabling organizations to harness the power of AI without heavy investment in infrastructure. OpenAI, a nonprofit AI research organization, focuses on developing safe and beneficial AI for the world.\n",
      "\n",
      "## Noteworthy News in Artificial Intelligence\n",
      "Recent breakthroughs in AI research have led to exciting developments in areas such as computer vision, autonomous vehicles, and natural language understanding. AI applications continue to expand into sectors like education, logistics, and cybersecurity, driving efficiency and innovation. However, the impact of AI on the job market and society raises concerns about job displacement and ethical dilemmas. Regulatory updates in the AI industry aim to address these challenges, ensuring responsible AI development and deployment.\n",
      "\n",
      "## Conclusion\n",
      "As AI technology continues to advance, staying informed about the latest trends and key players in the industry is essential for tech enthusiasts, professionals, and business leaders. By understanding the implications of AI on society and economy, we can navigate the evolving landscape of AI with awareness and responsibility. Subscribe to our newsletter for regular updates and insights on AI technology, and join the conversation on the future of Artificial Intelligence.\n",
      "\n",
      "Remember, the future of AI is in our hands, let's shape it wisely.\u001b[0m\n",
      "\n",
      "\u001b[1m> Finished chain.\u001b[0m\n",
      "\u001b[1m\u001b[92m [DEBUG]: == [Content Writer] Task output: # The Future of Artificial Intelligence: Trends, Players, and News\n",
      "\n",
      "## Introduction\n",
      "Artificial Intelligence (AI) has rapidly evolved in recent years, shaping industries and transforming the way we live and work. From machine learning advancements to ethical considerations in technology development, the AI landscape is constantly changing. In this article, we will explore the latest trends, key players, and noteworthy news in the AI industry, providing insights for tech enthusiasts, professionals, and business leaders interested in AI technology.\n",
      "\n",
      "## Latest Trends in Artificial Intelligence\n",
      "One of the most significant trends in AI is the continuous advancements in machine learning. Algorithms are becoming more sophisticated, allowing AI systems to learn and improve from data without explicit programming. Natural language processing (NLP) is also a key focus, with AI systems now able to understand and generate human language with increasing accuracy. In addition, AI applications in healthcare and finance are revolutionizing these industries, from personalized medicine to algorithmic trading. However, as AI technologies become more powerful, ethical considerations surrounding privacy, bias, and accountability become increasingly important.\n",
      "\n",
      "## Key Players in the AI Industry\n",
      "Several companies are at the forefront of AI innovation, shaping the industry with their cutting-edge technologies. Google DeepMind, known for its breakthroughs in AI research, is pushing the boundaries of machine learning and AI applications. IBM Watson is another key player, offering AI-powered solutions for businesses across various sectors. Amazon Web Services and Microsoft Azure provide cloud-based AI services, enabling organizations to harness the power of AI without heavy investment in infrastructure. OpenAI, a nonprofit AI research organization, focuses on developing safe and beneficial AI for the world.\n",
      "\n",
      "## Noteworthy News in Artificial Intelligence\n",
      "Recent breakthroughs in AI research have led to exciting developments in areas such as computer vision, autonomous vehicles, and natural language understanding. AI applications continue to expand into sectors like education, logistics, and cybersecurity, driving efficiency and innovation. However, the impact of AI on the job market and society raises concerns about job displacement and ethical dilemmas. Regulatory updates in the AI industry aim to address these challenges, ensuring responsible AI development and deployment.\n",
      "\n",
      "## Conclusion\n",
      "As AI technology continues to advance, staying informed about the latest trends and key players in the industry is essential for tech enthusiasts, professionals, and business leaders. By understanding the implications of AI on society and economy, we can navigate the evolving landscape of AI with awareness and responsibility. Subscribe to our newsletter for regular updates and insights on AI technology, and join the conversation on the future of Artificial Intelligence.\n",
      "\n",
      "Remember, the future of AI is in our hands, let's shape it wisely.\n",
      "\n",
      "\u001b[00m\n",
      "\u001b[1m\u001b[95m [DEBUG]: == Working Agent: Editor\u001b[00m\n",
      "\u001b[1m\u001b[95m [INFO]: == Starting Task: Proofread the given blog post for grammatical errors and alignment with the brand's voice.\u001b[00m\n",
      "\n",
      "\n",
      "\u001b[1m> Entering new CrewAgentExecutor chain...\u001b[0m\n"
     ]
    },
    {
     "name": "stdout",
     "output_type": "stream",
     "text": [
      "\u001b[32;1m\u001b[1;3mI now can give a great answer\n",
      "\n",
      "Final Answer:\n",
      "# The Future of Artificial Intelligence: Trends, Players, and News\n",
      "\n",
      "## Introduction\n",
      "Artificial Intelligence (AI) has rapidly evolved in recent years, shaping industries and transforming the way we live and work. From machine learning advancements to ethical considerations in technology development, the AI landscape is constantly changing. In this article, we will explore the latest trends, key players, and noteworthy news in the AI industry, providing insights for tech enthusiasts, professionals, and business leaders interested in AI technology.\n",
      "\n",
      "## Latest Trends in Artificial Intelligence\n",
      "One of the most significant trends in AI is the continuous advancements in machine learning. Algorithms are becoming more sophisticated, allowing AI systems to learn and improve from data without explicit programming. Natural language processing (NLP) is also a key focus, with AI systems now able to understand and generate human language with increasing accuracy. In addition, AI applications in healthcare and finance are revolutionizing these industries, from personalized medicine to algorithmic trading. However, as AI technologies become more powerful, ethical considerations surrounding privacy, bias, and accountability become increasingly important.\n",
      "\n",
      "## Key Players in the AI Industry\n",
      "Several companies are at the forefront of AI innovation, shaping the industry with their cutting-edge technologies. Google DeepMind, known for its breakthroughs in AI research, is pushing the boundaries of machine learning and AI applications. IBM Watson is another key player, offering AI-powered solutions for businesses across various sectors. Amazon Web Services and Microsoft Azure provide cloud-based AI services, enabling organizations to harness the power of AI without heavy investment in infrastructure. OpenAI, a nonprofit AI research organization, focuses on developing safe and beneficial AI for the world.\n",
      "\n",
      "## Noteworthy News in Artificial Intelligence\n",
      "Recent breakthroughs in AI research have led to exciting developments in areas such as computer vision, autonomous vehicles, and natural language understanding. AI applications continue to expand into sectors like education, logistics, and cybersecurity, driving efficiency and innovation. However, the impact of AI on the job market and society raises concerns about job displacement and ethical dilemmas. Regulatory updates in the AI industry aim to address these challenges, ensuring responsible AI development and deployment.\n",
      "\n",
      "## Conclusion\n",
      "As AI technology continues to advance, staying informed about the latest trends and key players in the industry is essential for tech enthusiasts, professionals, and business leaders. By understanding the implications of AI on society and economy, we can navigate the evolving landscape of AI with awareness and responsibility. Subscribe to our newsletter for regular updates and insights on AI technology, and join the conversation on the future of Artificial Intelligence.\n",
      "\n",
      "Remember, the future of AI is in our hands, let's shape it wisely.\u001b[0m\n",
      "\n",
      "\u001b[1m> Finished chain.\u001b[0m\n",
      "\u001b[1m\u001b[92m [DEBUG]: == [Editor] Task output: # The Future of Artificial Intelligence: Trends, Players, and News\n",
      "\n",
      "## Introduction\n",
      "Artificial Intelligence (AI) has rapidly evolved in recent years, shaping industries and transforming the way we live and work. From machine learning advancements to ethical considerations in technology development, the AI landscape is constantly changing. In this article, we will explore the latest trends, key players, and noteworthy news in the AI industry, providing insights for tech enthusiasts, professionals, and business leaders interested in AI technology.\n",
      "\n",
      "## Latest Trends in Artificial Intelligence\n",
      "One of the most significant trends in AI is the continuous advancements in machine learning. Algorithms are becoming more sophisticated, allowing AI systems to learn and improve from data without explicit programming. Natural language processing (NLP) is also a key focus, with AI systems now able to understand and generate human language with increasing accuracy. In addition, AI applications in healthcare and finance are revolutionizing these industries, from personalized medicine to algorithmic trading. However, as AI technologies become more powerful, ethical considerations surrounding privacy, bias, and accountability become increasingly important.\n",
      "\n",
      "## Key Players in the AI Industry\n",
      "Several companies are at the forefront of AI innovation, shaping the industry with their cutting-edge technologies. Google DeepMind, known for its breakthroughs in AI research, is pushing the boundaries of machine learning and AI applications. IBM Watson is another key player, offering AI-powered solutions for businesses across various sectors. Amazon Web Services and Microsoft Azure provide cloud-based AI services, enabling organizations to harness the power of AI without heavy investment in infrastructure. OpenAI, a nonprofit AI research organization, focuses on developing safe and beneficial AI for the world.\n",
      "\n",
      "## Noteworthy News in Artificial Intelligence\n",
      "Recent breakthroughs in AI research have led to exciting developments in areas such as computer vision, autonomous vehicles, and natural language understanding. AI applications continue to expand into sectors like education, logistics, and cybersecurity, driving efficiency and innovation. However, the impact of AI on the job market and society raises concerns about job displacement and ethical dilemmas. Regulatory updates in the AI industry aim to address these challenges, ensuring responsible AI development and deployment.\n",
      "\n",
      "## Conclusion\n",
      "As AI technology continues to advance, staying informed about the latest trends and key players in the industry is essential for tech enthusiasts, professionals, and business leaders. By understanding the implications of AI on society and economy, we can navigate the evolving landscape of AI with awareness and responsibility. Subscribe to our newsletter for regular updates and insights on AI technology, and join the conversation on the future of Artificial Intelligence.\n",
      "\n",
      "Remember, the future of AI is in our hands, let's shape it wisely.\n",
      "\n",
      "\u001b[00m\n"
     ]
    }
   ],
   "source": [
    "result = crew.kickoff(inputs={\"topic\": \"Artificial Intelligence\"})"
   ]
  },
  {
   "cell_type": "markdown",
   "metadata": {},
   "source": [
    "- Display the results of your execution as markdown in the notebook."
   ]
  },
  {
   "cell_type": "code",
   "execution_count": 12,
   "metadata": {
    "height": 47
   },
   "outputs": [
    {
     "data": {
      "text/markdown": [
       "# The Future of Artificial Intelligence: Trends, Players, and News\n",
       "\n",
       "## Introduction\n",
       "Artificial Intelligence (AI) has rapidly evolved in recent years, shaping industries and transforming the way we live and work. From machine learning advancements to ethical considerations in technology development, the AI landscape is constantly changing. In this article, we will explore the latest trends, key players, and noteworthy news in the AI industry, providing insights for tech enthusiasts, professionals, and business leaders interested in AI technology.\n",
       "\n",
       "## Latest Trends in Artificial Intelligence\n",
       "One of the most significant trends in AI is the continuous advancements in machine learning. Algorithms are becoming more sophisticated, allowing AI systems to learn and improve from data without explicit programming. Natural language processing (NLP) is also a key focus, with AI systems now able to understand and generate human language with increasing accuracy. In addition, AI applications in healthcare and finance are revolutionizing these industries, from personalized medicine to algorithmic trading. However, as AI technologies become more powerful, ethical considerations surrounding privacy, bias, and accountability become increasingly important.\n",
       "\n",
       "## Key Players in the AI Industry\n",
       "Several companies are at the forefront of AI innovation, shaping the industry with their cutting-edge technologies. Google DeepMind, known for its breakthroughs in AI research, is pushing the boundaries of machine learning and AI applications. IBM Watson is another key player, offering AI-powered solutions for businesses across various sectors. Amazon Web Services and Microsoft Azure provide cloud-based AI services, enabling organizations to harness the power of AI without heavy investment in infrastructure. OpenAI, a nonprofit AI research organization, focuses on developing safe and beneficial AI for the world.\n",
       "\n",
       "## Noteworthy News in Artificial Intelligence\n",
       "Recent breakthroughs in AI research have led to exciting developments in areas such as computer vision, autonomous vehicles, and natural language understanding. AI applications continue to expand into sectors like education, logistics, and cybersecurity, driving efficiency and innovation. However, the impact of AI on the job market and society raises concerns about job displacement and ethical dilemmas. Regulatory updates in the AI industry aim to address these challenges, ensuring responsible AI development and deployment.\n",
       "\n",
       "## Conclusion\n",
       "As AI technology continues to advance, staying informed about the latest trends and key players in the industry is essential for tech enthusiasts, professionals, and business leaders. By understanding the implications of AI on society and economy, we can navigate the evolving landscape of AI with awareness and responsibility. Subscribe to our newsletter for regular updates and insights on AI technology, and join the conversation on the future of Artificial Intelligence.\n",
       "\n",
       "Remember, the future of AI is in our hands, let's shape it wisely."
      ],
      "text/plain": [
       "<IPython.core.display.Markdown object>"
      ]
     },
     "execution_count": 12,
     "metadata": {},
     "output_type": "execute_result"
    }
   ],
   "source": [
    "from IPython.display import Markdown\n",
    "Markdown(result)"
   ]
  },
  {
   "cell_type": "markdown",
   "metadata": {},
   "source": [
    "## Try it Yourself\n",
    "\n",
    "- Pass in a topic of your choice and see what the agents come up with!"
   ]
  },
  {
   "cell_type": "code",
   "execution_count": 13,
   "metadata": {
    "height": 47
   },
   "outputs": [
    {
     "name": "stdout",
     "output_type": "stream",
     "text": [
      "\u001b[1m\u001b[95m [DEBUG]: == Working Agent: Content Planner\u001b[00m\n",
      "\u001b[1m\u001b[95m [INFO]: == Starting Task: 1. Prioritize the latest trends, key players, and noteworthy news on Meditation.\n",
      "2. Identify the target audience, considering their interests and pain points.\n",
      "3. Develop a detailed content outline including an introduction, key points, and a call to action.\n",
      "4. Include SEO keywords and relevant data or sources.\u001b[00m\n",
      "\n",
      "\n",
      "\u001b[1m> Entering new CrewAgentExecutor chain...\u001b[0m\n",
      "\u001b[32;1m\u001b[1;3mI now can give a great answer\n",
      "\n",
      "Final Answer:\n",
      "\n",
      "Content Plan Document:\n",
      "\n",
      "Title: The Power of Meditation: A Comprehensive Guide to Finding Inner Peace\n",
      "\n",
      "Outline:\n",
      "I. Introduction\n",
      "- Definition of meditation\n",
      "- Importance of meditation in modern-day life\n",
      "- Brief overview of the benefits of meditation\n",
      "\n",
      "II. Key Points\n",
      "A. Different types of meditation practices\n",
      "1. Mindfulness meditation\n",
      "2. Transcendental meditation\n",
      "3. Loving-kindness meditation\n",
      "B. Steps to start a meditation practice\n",
      "1. Finding a quiet space\n",
      "2. Setting a time frame\n",
      "3. Focusing on breathing or a mantra\n",
      "C. Benefits of meditation\n",
      "1. Reduced stress and anxiety\n",
      "2. Improved focus and concentration\n",
      "3. Enhanced emotional well-being\n",
      "\n",
      "III. Target Audience Analysis\n",
      "- Individuals seeking stress relief\n",
      "- Professionals looking to improve productivity\n",
      "- Students dealing with academic pressure\n",
      "- Anyone interested in personal growth and self-discovery\n",
      "\n",
      "IV. SEO Keywords\n",
      "- Meditation techniques\n",
      "- Benefits of meditation\n",
      "- How to start meditation\n",
      "- Mindfulness practices\n",
      "- Meditation for beginners\n",
      "\n",
      "V. Resources\n",
      "1. Headspace app for guided meditation sessions\n",
      "2. Insight Timer for a variety of meditation practices\n",
      "3. The Mindful Geek by Michael W. Taft for a scientific approach to meditation\n",
      "4. Meditation for Fidgety Skeptics by Dan Harris for beginners looking to start a meditation practice\n",
      "\n",
      "Overall, this content plan aims to provide valuable information on meditation for the target audience, incorporating relevant SEO keywords and credible resources to enhance the reader's understanding and engagement with the topic.\u001b[0m\n",
      "\n",
      "\u001b[1m> Finished chain.\u001b[0m\n",
      "\u001b[1m\u001b[92m [DEBUG]: == [Content Planner] Task output: Content Plan Document:\n",
      "\n",
      "Title: The Power of Meditation: A Comprehensive Guide to Finding Inner Peace\n",
      "\n",
      "Outline:\n",
      "I. Introduction\n",
      "- Definition of meditation\n",
      "- Importance of meditation in modern-day life\n",
      "- Brief overview of the benefits of meditation\n",
      "\n",
      "II. Key Points\n",
      "A. Different types of meditation practices\n",
      "1. Mindfulness meditation\n",
      "2. Transcendental meditation\n",
      "3. Loving-kindness meditation\n",
      "B. Steps to start a meditation practice\n",
      "1. Finding a quiet space\n",
      "2. Setting a time frame\n",
      "3. Focusing on breathing or a mantra\n",
      "C. Benefits of meditation\n",
      "1. Reduced stress and anxiety\n",
      "2. Improved focus and concentration\n",
      "3. Enhanced emotional well-being\n",
      "\n",
      "III. Target Audience Analysis\n",
      "- Individuals seeking stress relief\n",
      "- Professionals looking to improve productivity\n",
      "- Students dealing with academic pressure\n",
      "- Anyone interested in personal growth and self-discovery\n",
      "\n",
      "IV. SEO Keywords\n",
      "- Meditation techniques\n",
      "- Benefits of meditation\n",
      "- How to start meditation\n",
      "- Mindfulness practices\n",
      "- Meditation for beginners\n",
      "\n",
      "V. Resources\n",
      "1. Headspace app for guided meditation sessions\n",
      "2. Insight Timer for a variety of meditation practices\n",
      "3. The Mindful Geek by Michael W. Taft for a scientific approach to meditation\n",
      "4. Meditation for Fidgety Skeptics by Dan Harris for beginners looking to start a meditation practice\n",
      "\n",
      "Overall, this content plan aims to provide valuable information on meditation for the target audience, incorporating relevant SEO keywords and credible resources to enhance the reader's understanding and engagement with the topic.\n",
      "\n",
      "\u001b[00m\n",
      "\u001b[1m\u001b[95m [DEBUG]: == Working Agent: Content Writer\u001b[00m\n",
      "\u001b[1m\u001b[95m [INFO]: == Starting Task: 1. Use the content plan to craft a compelling blog post on Meditation.\n",
      "2. Incorporate SEO keywords naturally.\n",
      "3. Sections/Subtitles are properly named in an engaging manner.\n",
      "4. Ensure the post is structured with an engaging introduction, insightful body, and a summarizing conclusion.\n",
      "5. Proofread for grammatical errors and alignment with the brand's voice.\n",
      "\u001b[00m\n",
      "\n",
      "\n",
      "\u001b[1m> Entering new CrewAgentExecutor chain...\u001b[0m\n",
      "\u001b[32;1m\u001b[1;3mI now can give a great answer\n",
      "\n",
      "Final Answer:\n",
      "\n",
      "# The Power of Meditation: A Comprehensive Guide to Finding Inner Peace\n",
      "\n",
      "## Introduction\n",
      "\n",
      "In today's fast-paced world, the practice of meditation has gained significant popularity as a means to find inner peace and improve overall well-being. Meditation can be defined as a technique that involves focusing the mind on a particular object, thought, or activity to achieve a mentally clear and emotionally calm state. With the increasing stress and anxiety in modern-day life, the importance of meditation has become more evident than ever. This comprehensive guide aims to explore the various types of meditation practices, the steps to start a meditation practice, and the numerous benefits that meditation can offer.\n",
      "\n",
      "## Key Points\n",
      "\n",
      "### Different types of meditation practices\n",
      "1. **Mindfulness Meditation**: This form of meditation involves being fully present in the moment and aware of one's thoughts and feelings without judgment. It focuses on cultivating a heightened sense of awareness and acceptance.\n",
      "2. **Transcendental Meditation**: A popular form of meditation that involves silently repeating a mantra to transcend ordinary thinking and reach a state of pure awareness and consciousness.\n",
      "3. **Loving-Kindness Meditation**: Also known as Metta meditation, this practice involves cultivating feelings of love, compassion, and goodwill towards oneself and others.\n",
      "\n",
      "### Steps to start a meditation practice\n",
      "1. **Finding a Quiet Space**: It is essential to find a peaceful and comfortable space where you can practice meditation without distractions.\n",
      "2. **Setting a Time Frame**: Establish a regular meditation routine by setting aside a specific time each day to dedicate to your practice.\n",
      "3. **Focusing on Breathing or a Mantra**: Choose a focal point for your meditation, such as your breath or a mantra, to anchor your attention and quiet the mind.\n",
      "\n",
      "### Benefits of meditation\n",
      "1. **Reduced Stress and Anxiety**: By calming the mind and promoting relaxation, meditation can help reduce stress levels and alleviate symptoms of anxiety.\n",
      "2. **Improved Focus and Concentration**: Regular meditation practice can enhance cognitive function, improve focus, and increase productivity.\n",
      "3. **Enhanced Emotional Well-being**: Meditation can foster emotional resilience, promote self-awareness, and cultivate a sense of inner peace and contentment.\n",
      "\n",
      "## Target Audience Analysis\n",
      "\n",
      "The target audience for this guide includes individuals seeking stress relief, professionals looking to enhance productivity, students dealing with academic pressure, and anyone interested in personal growth and self-discovery through meditation. Whether you are a beginner looking to start a meditation practice or someone seeking to deepen your existing practice, this guide aims to provide valuable insights and resources to support your journey towards inner peace and well-being.\n",
      "\n",
      "## Conclusion\n",
      "\n",
      "In conclusion, the practice of meditation offers a powerful tool for finding inner peace, reducing stress, and improving overall well-being. By exploring different types of meditation practices, understanding the steps to start a meditation practice, and recognizing the benefits that meditation can bring, individuals can embark on a transformative journey towards self-discovery and personal growth. With the right guidance and commitment, meditation can become a valuable daily practice that nurtures the mind, body, and spirit.\n",
      "\n",
      "Remember, the key to a successful meditation practice lies in consistency, patience, and a willingness to explore and embrace the present moment with openness and curiosity. Start your meditation journey today and experience the profound benefits that this ancient practice can offer.\u001b[0m\n",
      "\n",
      "\u001b[1m> Finished chain.\u001b[0m\n",
      "\u001b[1m\u001b[92m [DEBUG]: == [Content Writer] Task output: # The Power of Meditation: A Comprehensive Guide to Finding Inner Peace\n",
      "\n",
      "## Introduction\n",
      "\n",
      "In today's fast-paced world, the practice of meditation has gained significant popularity as a means to find inner peace and improve overall well-being. Meditation can be defined as a technique that involves focusing the mind on a particular object, thought, or activity to achieve a mentally clear and emotionally calm state. With the increasing stress and anxiety in modern-day life, the importance of meditation has become more evident than ever. This comprehensive guide aims to explore the various types of meditation practices, the steps to start a meditation practice, and the numerous benefits that meditation can offer.\n",
      "\n",
      "## Key Points\n",
      "\n",
      "### Different types of meditation practices\n",
      "1. **Mindfulness Meditation**: This form of meditation involves being fully present in the moment and aware of one's thoughts and feelings without judgment. It focuses on cultivating a heightened sense of awareness and acceptance.\n",
      "2. **Transcendental Meditation**: A popular form of meditation that involves silently repeating a mantra to transcend ordinary thinking and reach a state of pure awareness and consciousness.\n",
      "3. **Loving-Kindness Meditation**: Also known as Metta meditation, this practice involves cultivating feelings of love, compassion, and goodwill towards oneself and others.\n",
      "\n",
      "### Steps to start a meditation practice\n",
      "1. **Finding a Quiet Space**: It is essential to find a peaceful and comfortable space where you can practice meditation without distractions.\n",
      "2. **Setting a Time Frame**: Establish a regular meditation routine by setting aside a specific time each day to dedicate to your practice.\n",
      "3. **Focusing on Breathing or a Mantra**: Choose a focal point for your meditation, such as your breath or a mantra, to anchor your attention and quiet the mind.\n",
      "\n",
      "### Benefits of meditation\n",
      "1. **Reduced Stress and Anxiety**: By calming the mind and promoting relaxation, meditation can help reduce stress levels and alleviate symptoms of anxiety.\n",
      "2. **Improved Focus and Concentration**: Regular meditation practice can enhance cognitive function, improve focus, and increase productivity.\n",
      "3. **Enhanced Emotional Well-being**: Meditation can foster emotional resilience, promote self-awareness, and cultivate a sense of inner peace and contentment.\n",
      "\n",
      "## Target Audience Analysis\n",
      "\n",
      "The target audience for this guide includes individuals seeking stress relief, professionals looking to enhance productivity, students dealing with academic pressure, and anyone interested in personal growth and self-discovery through meditation. Whether you are a beginner looking to start a meditation practice or someone seeking to deepen your existing practice, this guide aims to provide valuable insights and resources to support your journey towards inner peace and well-being.\n",
      "\n",
      "## Conclusion\n",
      "\n",
      "In conclusion, the practice of meditation offers a powerful tool for finding inner peace, reducing stress, and improving overall well-being. By exploring different types of meditation practices, understanding the steps to start a meditation practice, and recognizing the benefits that meditation can bring, individuals can embark on a transformative journey towards self-discovery and personal growth. With the right guidance and commitment, meditation can become a valuable daily practice that nurtures the mind, body, and spirit.\n",
      "\n",
      "Remember, the key to a successful meditation practice lies in consistency, patience, and a willingness to explore and embrace the present moment with openness and curiosity. Start your meditation journey today and experience the profound benefits that this ancient practice can offer.\n",
      "\n",
      "\u001b[00m\n",
      "\u001b[1m\u001b[95m [DEBUG]: == Working Agent: Editor\u001b[00m\n",
      "\u001b[1m\u001b[95m [INFO]: == Starting Task: Proofread the given blog post for grammatical errors and alignment with the brand's voice.\u001b[00m\n",
      "\n",
      "\n",
      "\u001b[1m> Entering new CrewAgentExecutor chain...\u001b[0m\n"
     ]
    },
    {
     "name": "stdout",
     "output_type": "stream",
     "text": [
      "\u001b[32;1m\u001b[1;3mI now can give a great answer\n",
      "\n",
      "Final Answer:\n",
      "# The Power of Meditation: A Comprehensive Guide to Finding Inner Peace\n",
      "\n",
      "## Introduction\n",
      "\n",
      "In today's fast-paced world, the practice of meditation has gained significant popularity as a means to find inner peace and improve overall well-being. Meditation can be defined as a technique that involves focusing the mind on a particular object, thought, or activity to achieve a mentally clear and emotionally calm state. With the increasing stress and anxiety in modern-day life, the importance of meditation has become more evident than ever. This comprehensive guide aims to explore the various types of meditation practices, the steps to start a meditation practice, and the numerous benefits that meditation can offer.\n",
      "\n",
      "## Key Points\n",
      "\n",
      "### Different types of meditation practices\n",
      "1. **Mindfulness Meditation**: This form of meditation involves being fully present in the moment and aware of one's thoughts and feelings without judgment. It focuses on cultivating a heightened sense of awareness and acceptance.\n",
      "2. **Transcendental Meditation**: A popular form of meditation that involves silently repeating a mantra to transcend ordinary thinking and reach a state of pure awareness and consciousness.\n",
      "3. **Loving-Kindness Meditation**: Also known as Metta meditation, this practice involves cultivating feelings of love, compassion, and goodwill towards oneself and others.\n",
      "\n",
      "### Steps to start a meditation practice\n",
      "1. **Finding a Quiet Space**: It is essential to find a peaceful and comfortable space where you can practice meditation without distractions.\n",
      "2. **Setting a Time Frame**: Establish a regular meditation routine by setting aside a specific time each day to dedicate to your practice.\n",
      "3. **Focusing on Breathing or a Mantra**: Choose a focal point for your meditation, such as your breath or a mantra, to anchor your attention and quiet the mind.\n",
      "\n",
      "### Benefits of meditation\n",
      "1. **Reduced Stress and Anxiety**: By calming the mind and promoting relaxation, meditation can help reduce stress levels and alleviate symptoms of anxiety.\n",
      "2. **Improved Focus and Concentration**: Regular meditation practice can enhance cognitive function, improve focus, and increase productivity.\n",
      "3. **Enhanced Emotional Well-being**: Meditation can foster emotional resilience, promote self-awareness, and cultivate a sense of inner peace and contentment.\n",
      "\n",
      "## Target Audience Analysis\n",
      "\n",
      "The target audience for this guide includes individuals seeking stress relief, professionals looking to enhance productivity, students dealing with academic pressure, and anyone interested in personal growth and self-discovery through meditation. Whether you are a beginner looking to start a meditation practice or someone seeking to deepen your existing practice, this guide aims to provide valuable insights and resources to support your journey towards inner peace and well-being.\n",
      "\n",
      "## Conclusion\n",
      "\n",
      "In conclusion, the practice of meditation offers a powerful tool for finding inner peace, reducing stress, and improving overall well-being. By exploring different types of meditation practices, understanding the steps to start a meditation practice, and recognizing the benefits that meditation can bring, individuals can embark on a transformative journey towards self-discovery and personal growth. With the right guidance and commitment, meditation can become a valuable daily practice that nurtures the mind, body, and spirit.\n",
      "\n",
      "Remember, the key to a successful meditation practice lies in consistency, patience, and a willingness to explore and embrace the present moment with openness and curiosity. Start your meditation journey today and experience the profound benefits that this ancient practice can offer.\u001b[0m\n",
      "\n",
      "\u001b[1m> Finished chain.\u001b[0m\n",
      "\u001b[1m\u001b[92m [DEBUG]: == [Editor] Task output: # The Power of Meditation: A Comprehensive Guide to Finding Inner Peace\n",
      "\n",
      "## Introduction\n",
      "\n",
      "In today's fast-paced world, the practice of meditation has gained significant popularity as a means to find inner peace and improve overall well-being. Meditation can be defined as a technique that involves focusing the mind on a particular object, thought, or activity to achieve a mentally clear and emotionally calm state. With the increasing stress and anxiety in modern-day life, the importance of meditation has become more evident than ever. This comprehensive guide aims to explore the various types of meditation practices, the steps to start a meditation practice, and the numerous benefits that meditation can offer.\n",
      "\n",
      "## Key Points\n",
      "\n",
      "### Different types of meditation practices\n",
      "1. **Mindfulness Meditation**: This form of meditation involves being fully present in the moment and aware of one's thoughts and feelings without judgment. It focuses on cultivating a heightened sense of awareness and acceptance.\n",
      "2. **Transcendental Meditation**: A popular form of meditation that involves silently repeating a mantra to transcend ordinary thinking and reach a state of pure awareness and consciousness.\n",
      "3. **Loving-Kindness Meditation**: Also known as Metta meditation, this practice involves cultivating feelings of love, compassion, and goodwill towards oneself and others.\n",
      "\n",
      "### Steps to start a meditation practice\n",
      "1. **Finding a Quiet Space**: It is essential to find a peaceful and comfortable space where you can practice meditation without distractions.\n",
      "2. **Setting a Time Frame**: Establish a regular meditation routine by setting aside a specific time each day to dedicate to your practice.\n",
      "3. **Focusing on Breathing or a Mantra**: Choose a focal point for your meditation, such as your breath or a mantra, to anchor your attention and quiet the mind.\n",
      "\n",
      "### Benefits of meditation\n",
      "1. **Reduced Stress and Anxiety**: By calming the mind and promoting relaxation, meditation can help reduce stress levels and alleviate symptoms of anxiety.\n",
      "2. **Improved Focus and Concentration**: Regular meditation practice can enhance cognitive function, improve focus, and increase productivity.\n",
      "3. **Enhanced Emotional Well-being**: Meditation can foster emotional resilience, promote self-awareness, and cultivate a sense of inner peace and contentment.\n",
      "\n",
      "## Target Audience Analysis\n",
      "\n",
      "The target audience for this guide includes individuals seeking stress relief, professionals looking to enhance productivity, students dealing with academic pressure, and anyone interested in personal growth and self-discovery through meditation. Whether you are a beginner looking to start a meditation practice or someone seeking to deepen your existing practice, this guide aims to provide valuable insights and resources to support your journey towards inner peace and well-being.\n",
      "\n",
      "## Conclusion\n",
      "\n",
      "In conclusion, the practice of meditation offers a powerful tool for finding inner peace, reducing stress, and improving overall well-being. By exploring different types of meditation practices, understanding the steps to start a meditation practice, and recognizing the benefits that meditation can bring, individuals can embark on a transformative journey towards self-discovery and personal growth. With the right guidance and commitment, meditation can become a valuable daily practice that nurtures the mind, body, and spirit.\n",
      "\n",
      "Remember, the key to a successful meditation practice lies in consistency, patience, and a willingness to explore and embrace the present moment with openness and curiosity. Start your meditation journey today and experience the profound benefits that this ancient practice can offer.\n",
      "\n",
      "\u001b[00m\n"
     ]
    }
   ],
   "source": [
    "topic = \"Meditation\"\n",
    "result = crew.kickoff(inputs={\"topic\": topic})"
   ]
  },
  {
   "cell_type": "code",
   "execution_count": 14,
   "metadata": {
    "height": 30
   },
   "outputs": [
    {
     "data": {
      "text/markdown": [
       "# The Power of Meditation: A Comprehensive Guide to Finding Inner Peace\n",
       "\n",
       "## Introduction\n",
       "\n",
       "In today's fast-paced world, the practice of meditation has gained significant popularity as a means to find inner peace and improve overall well-being. Meditation can be defined as a technique that involves focusing the mind on a particular object, thought, or activity to achieve a mentally clear and emotionally calm state. With the increasing stress and anxiety in modern-day life, the importance of meditation has become more evident than ever. This comprehensive guide aims to explore the various types of meditation practices, the steps to start a meditation practice, and the numerous benefits that meditation can offer.\n",
       "\n",
       "## Key Points\n",
       "\n",
       "### Different types of meditation practices\n",
       "1. **Mindfulness Meditation**: This form of meditation involves being fully present in the moment and aware of one's thoughts and feelings without judgment. It focuses on cultivating a heightened sense of awareness and acceptance.\n",
       "2. **Transcendental Meditation**: A popular form of meditation that involves silently repeating a mantra to transcend ordinary thinking and reach a state of pure awareness and consciousness.\n",
       "3. **Loving-Kindness Meditation**: Also known as Metta meditation, this practice involves cultivating feelings of love, compassion, and goodwill towards oneself and others.\n",
       "\n",
       "### Steps to start a meditation practice\n",
       "1. **Finding a Quiet Space**: It is essential to find a peaceful and comfortable space where you can practice meditation without distractions.\n",
       "2. **Setting a Time Frame**: Establish a regular meditation routine by setting aside a specific time each day to dedicate to your practice.\n",
       "3. **Focusing on Breathing or a Mantra**: Choose a focal point for your meditation, such as your breath or a mantra, to anchor your attention and quiet the mind.\n",
       "\n",
       "### Benefits of meditation\n",
       "1. **Reduced Stress and Anxiety**: By calming the mind and promoting relaxation, meditation can help reduce stress levels and alleviate symptoms of anxiety.\n",
       "2. **Improved Focus and Concentration**: Regular meditation practice can enhance cognitive function, improve focus, and increase productivity.\n",
       "3. **Enhanced Emotional Well-being**: Meditation can foster emotional resilience, promote self-awareness, and cultivate a sense of inner peace and contentment.\n",
       "\n",
       "## Target Audience Analysis\n",
       "\n",
       "The target audience for this guide includes individuals seeking stress relief, professionals looking to enhance productivity, students dealing with academic pressure, and anyone interested in personal growth and self-discovery through meditation. Whether you are a beginner looking to start a meditation practice or someone seeking to deepen your existing practice, this guide aims to provide valuable insights and resources to support your journey towards inner peace and well-being.\n",
       "\n",
       "## Conclusion\n",
       "\n",
       "In conclusion, the practice of meditation offers a powerful tool for finding inner peace, reducing stress, and improving overall well-being. By exploring different types of meditation practices, understanding the steps to start a meditation practice, and recognizing the benefits that meditation can bring, individuals can embark on a transformative journey towards self-discovery and personal growth. With the right guidance and commitment, meditation can become a valuable daily practice that nurtures the mind, body, and spirit.\n",
       "\n",
       "Remember, the key to a successful meditation practice lies in consistency, patience, and a willingness to explore and embrace the present moment with openness and curiosity. Start your meditation journey today and experience the profound benefits that this ancient practice can offer."
      ],
      "text/plain": [
       "<IPython.core.display.Markdown object>"
      ]
     },
     "execution_count": 14,
     "metadata": {},
     "output_type": "execute_result"
    }
   ],
   "source": [
    "Markdown(result)"
   ]
  },
  {
   "cell_type": "markdown",
   "metadata": {},
   "source": [
    "<a name='1'></a>\n",
    " ## Other Popular Models as LLM for your Agents"
   ]
  },
  {
   "cell_type": "markdown",
   "metadata": {},
   "source": [
    "#### Hugging Face (HuggingFaceHub endpoint)\n",
    "\n",
    "```Python\n",
    "from langchain_community.llms import HuggingFaceHub\n",
    "\n",
    "llm = HuggingFaceHub(\n",
    "    repo_id=\"HuggingFaceH4/zephyr-7b-beta\",\n",
    "    huggingfacehub_api_token=\"<HF_TOKEN_HERE>\",\n",
    "    task=\"text-generation\",\n",
    ")\n",
    "\n",
    "### you will pass \"llm\" to your agent function\n",
    "```"
   ]
  },
  {
   "cell_type": "markdown",
   "metadata": {},
   "source": [
    "#### Mistral API\n",
    "\n",
    "```Python\n",
    "OPENAI_API_KEY=your-mistral-api-key\n",
    "OPENAI_API_BASE=https://api.mistral.ai/v1\n",
    "OPENAI_MODEL_NAME=\"mistral-small\"\n",
    "```"
   ]
  },
  {
   "cell_type": "markdown",
   "metadata": {},
   "source": [
    "#### Cohere\n",
    "\n",
    "```Python\n",
    "from langchain_community.chat_models import ChatCohere\n",
    "# Initialize language model\n",
    "os.environ[\"COHERE_API_KEY\"] = \"your-cohere-api-key\"\n",
    "llm = ChatCohere()\n",
    "\n",
    "### you will pass \"llm\" to your agent function\n",
    "```"
   ]
  },
  {
   "cell_type": "markdown",
   "metadata": {},
   "source": [
    "### For using Llama locally with Ollama and more, checkout the crewAI documentation on [Connecting to any LLM](https://docs.crewai.com/how-to/LLM-Connections/)."
   ]
  },
  {
   "cell_type": "code",
   "execution_count": null,
   "metadata": {
    "height": 30
   },
   "outputs": [],
   "source": []
  }
 ],
 "metadata": {
  "colab": {
   "gpuType": "T4",
   "provenance": []
  },
  "kernelspec": {
   "display_name": "Python 3 (ipykernel)",
   "language": "python",
   "name": "python3"
  },
  "language_info": {
   "codemirror_mode": {
    "name": "ipython",
    "version": 3
   },
   "file_extension": ".py",
   "mimetype": "text/x-python",
   "name": "python",
   "nbconvert_exporter": "python",
   "pygments_lexer": "ipython3",
   "version": "3.11.9"
  }
 },
 "nbformat": 4,
 "nbformat_minor": 4
}
